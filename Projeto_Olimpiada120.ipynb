{
 "cells": [
  {
   "cell_type": "markdown",
   "metadata": {},
   "source": [
    "# 120 de História Olímpica\n",
    "\n",
    "Base de dados retirado do kaggle: https://www.kaggle.com/heesoo37/120-years-of-olympic-history-athletes-and-results"
   ]
  },
  {
   "cell_type": "code",
   "execution_count": 146,
   "metadata": {},
   "outputs": [],
   "source": [
    "#Importando bibliotecas \n",
    "import pandas as pd\n",
    "import numpy as np\n",
    "import matplotlib.pyplot as plt\n",
    "import seaborn as sns\n",
    "from sklearn.preprocessing import LabelEncoder\n",
    "from sklearn.ensemble import RandomForestClassifier\n",
    "from sklearn.model_selection import cross_val_predict\n",
    "from sklearn.model_selection import cross_val_score\n",
    "from sklearn import metrics\n",
    "from sklearn.preprocessing import MinMaxScaler\n",
    "from sklearn import preprocessing\n",
    "from sklearn.model_selection import GridSearchCV\n",
    "from sklearn.pipeline import Pipeline\n",
    "from sklearn import tree\n",
    "from sklearn.preprocessing import StandardScaler\n",
    "from sklearn.tree import DecisionTreeClassifier\n",
    "from sklearn.neighbors import KNeighborsClassifier"
   ]
  },
  {
   "cell_type": "code",
   "execution_count": 72,
   "metadata": {},
   "outputs": [],
   "source": [
    "#Lendo os dados\n",
    "dados = pd.read_csv('athlete_events.csv')"
   ]
  },
  {
   "cell_type": "code",
   "execution_count": 73,
   "metadata": {},
   "outputs": [
    {
     "data": {
      "text/html": [
       "<div>\n",
       "<style scoped>\n",
       "    .dataframe tbody tr th:only-of-type {\n",
       "        vertical-align: middle;\n",
       "    }\n",
       "\n",
       "    .dataframe tbody tr th {\n",
       "        vertical-align: top;\n",
       "    }\n",
       "\n",
       "    .dataframe thead th {\n",
       "        text-align: right;\n",
       "    }\n",
       "</style>\n",
       "<table border=\"1\" class=\"dataframe\">\n",
       "  <thead>\n",
       "    <tr style=\"text-align: right;\">\n",
       "      <th></th>\n",
       "      <th>ID</th>\n",
       "      <th>Name</th>\n",
       "      <th>Sex</th>\n",
       "      <th>Age</th>\n",
       "      <th>Height</th>\n",
       "      <th>Weight</th>\n",
       "      <th>Team</th>\n",
       "      <th>NOC</th>\n",
       "      <th>Games</th>\n",
       "      <th>Year</th>\n",
       "      <th>Season</th>\n",
       "      <th>City</th>\n",
       "      <th>Sport</th>\n",
       "      <th>Event</th>\n",
       "      <th>Medal</th>\n",
       "    </tr>\n",
       "  </thead>\n",
       "  <tbody>\n",
       "    <tr>\n",
       "      <th>0</th>\n",
       "      <td>1</td>\n",
       "      <td>A Dijiang</td>\n",
       "      <td>M</td>\n",
       "      <td>24.0</td>\n",
       "      <td>180.0</td>\n",
       "      <td>80.0</td>\n",
       "      <td>China</td>\n",
       "      <td>CHN</td>\n",
       "      <td>1992 Summer</td>\n",
       "      <td>1992</td>\n",
       "      <td>Summer</td>\n",
       "      <td>Barcelona</td>\n",
       "      <td>Basketball</td>\n",
       "      <td>Basketball Men's Basketball</td>\n",
       "      <td>NaN</td>\n",
       "    </tr>\n",
       "    <tr>\n",
       "      <th>1</th>\n",
       "      <td>2</td>\n",
       "      <td>A Lamusi</td>\n",
       "      <td>M</td>\n",
       "      <td>23.0</td>\n",
       "      <td>170.0</td>\n",
       "      <td>60.0</td>\n",
       "      <td>China</td>\n",
       "      <td>CHN</td>\n",
       "      <td>2012 Summer</td>\n",
       "      <td>2012</td>\n",
       "      <td>Summer</td>\n",
       "      <td>London</td>\n",
       "      <td>Judo</td>\n",
       "      <td>Judo Men's Extra-Lightweight</td>\n",
       "      <td>NaN</td>\n",
       "    </tr>\n",
       "    <tr>\n",
       "      <th>2</th>\n",
       "      <td>3</td>\n",
       "      <td>Gunnar Nielsen Aaby</td>\n",
       "      <td>M</td>\n",
       "      <td>24.0</td>\n",
       "      <td>NaN</td>\n",
       "      <td>NaN</td>\n",
       "      <td>Denmark</td>\n",
       "      <td>DEN</td>\n",
       "      <td>1920 Summer</td>\n",
       "      <td>1920</td>\n",
       "      <td>Summer</td>\n",
       "      <td>Antwerpen</td>\n",
       "      <td>Football</td>\n",
       "      <td>Football Men's Football</td>\n",
       "      <td>NaN</td>\n",
       "    </tr>\n",
       "    <tr>\n",
       "      <th>3</th>\n",
       "      <td>4</td>\n",
       "      <td>Edgar Lindenau Aabye</td>\n",
       "      <td>M</td>\n",
       "      <td>34.0</td>\n",
       "      <td>NaN</td>\n",
       "      <td>NaN</td>\n",
       "      <td>Denmark/Sweden</td>\n",
       "      <td>DEN</td>\n",
       "      <td>1900 Summer</td>\n",
       "      <td>1900</td>\n",
       "      <td>Summer</td>\n",
       "      <td>Paris</td>\n",
       "      <td>Tug-Of-War</td>\n",
       "      <td>Tug-Of-War Men's Tug-Of-War</td>\n",
       "      <td>Gold</td>\n",
       "    </tr>\n",
       "    <tr>\n",
       "      <th>4</th>\n",
       "      <td>5</td>\n",
       "      <td>Christine Jacoba Aaftink</td>\n",
       "      <td>F</td>\n",
       "      <td>21.0</td>\n",
       "      <td>185.0</td>\n",
       "      <td>82.0</td>\n",
       "      <td>Netherlands</td>\n",
       "      <td>NED</td>\n",
       "      <td>1988 Winter</td>\n",
       "      <td>1988</td>\n",
       "      <td>Winter</td>\n",
       "      <td>Calgary</td>\n",
       "      <td>Speed Skating</td>\n",
       "      <td>Speed Skating Women's 500 metres</td>\n",
       "      <td>NaN</td>\n",
       "    </tr>\n",
       "  </tbody>\n",
       "</table>\n",
       "</div>"
      ],
      "text/plain": [
       "   ID                      Name Sex   Age  Height  Weight            Team  \\\n",
       "0   1                 A Dijiang   M  24.0   180.0    80.0           China   \n",
       "1   2                  A Lamusi   M  23.0   170.0    60.0           China   \n",
       "2   3       Gunnar Nielsen Aaby   M  24.0     NaN     NaN         Denmark   \n",
       "3   4      Edgar Lindenau Aabye   M  34.0     NaN     NaN  Denmark/Sweden   \n",
       "4   5  Christine Jacoba Aaftink   F  21.0   185.0    82.0     Netherlands   \n",
       "\n",
       "   NOC        Games  Year  Season       City          Sport  \\\n",
       "0  CHN  1992 Summer  1992  Summer  Barcelona     Basketball   \n",
       "1  CHN  2012 Summer  2012  Summer     London           Judo   \n",
       "2  DEN  1920 Summer  1920  Summer  Antwerpen       Football   \n",
       "3  DEN  1900 Summer  1900  Summer      Paris     Tug-Of-War   \n",
       "4  NED  1988 Winter  1988  Winter    Calgary  Speed Skating   \n",
       "\n",
       "                              Event Medal  \n",
       "0       Basketball Men's Basketball   NaN  \n",
       "1      Judo Men's Extra-Lightweight   NaN  \n",
       "2           Football Men's Football   NaN  \n",
       "3       Tug-Of-War Men's Tug-Of-War  Gold  \n",
       "4  Speed Skating Women's 500 metres   NaN  "
      ]
     },
     "execution_count": 73,
     "metadata": {},
     "output_type": "execute_result"
    }
   ],
   "source": [
    "#Verificando as 5 primeiras linhas do dataset\n",
    "dados.head()"
   ]
  },
  {
   "cell_type": "code",
   "execution_count": 74,
   "metadata": {},
   "outputs": [],
   "source": [
    "# Renomeando as colunas\n",
    "dados.columns = ['ID', 'Nome', 'Sexo', 'Idade', 'Altura', 'Peso', 'Time','NOC', 'AnoEstacao', 'Ano', 'Estacao', 'Cidade', 'Esporte', 'Evento', 'Medalha']"
   ]
  },
  {
   "cell_type": "code",
   "execution_count": 75,
   "metadata": {},
   "outputs": [
    {
     "name": "stdout",
     "output_type": "stream",
     "text": [
      "<class 'pandas.core.frame.DataFrame'>\n",
      "RangeIndex: 271116 entries, 0 to 271115\n",
      "Data columns (total 15 columns):\n",
      " #   Column      Non-Null Count   Dtype  \n",
      "---  ------      --------------   -----  \n",
      " 0   ID          271116 non-null  int64  \n",
      " 1   Nome        271116 non-null  object \n",
      " 2   Sexo        271116 non-null  object \n",
      " 3   Idade       261642 non-null  float64\n",
      " 4   Altura      210945 non-null  float64\n",
      " 5   Peso        208241 non-null  float64\n",
      " 6   Time        271116 non-null  object \n",
      " 7   NOC         271116 non-null  object \n",
      " 8   AnoEstacao  271116 non-null  object \n",
      " 9   Ano         271116 non-null  int64  \n",
      " 10  Estacao     271116 non-null  object \n",
      " 11  Cidade      271116 non-null  object \n",
      " 12  Esporte     271116 non-null  object \n",
      " 13  Evento      271116 non-null  object \n",
      " 14  Medalha     39783 non-null   object \n",
      "dtypes: float64(3), int64(2), object(10)\n",
      "memory usage: 31.0+ MB\n"
     ]
    }
   ],
   "source": [
    "dados.info()"
   ]
  },
  {
   "cell_type": "markdown",
   "metadata": {},
   "source": [
    "# Colunas do Conjunto de Dados\n",
    "\n",
    "**ID** - Número único atribuido a cada atleta\n",
    "\n",
    "**Nome** - Nome dos Atletas\n",
    "\n",
    "**Sexo** - M or F\n",
    "\n",
    "**Idade** - Inteiro\n",
    "\n",
    "**Altura** - Em Centímetros\n",
    "\n",
    "**Peso** - Em Quilos\n",
    "\n",
    "**Time** - Nome do Time\n",
    "\n",
    "**NOC** - Comite Olimpico Nacional( Código com três letras)\n",
    "\n",
    "**AnoEstacao** - Ano e Estação\n",
    "\n",
    "**Ano** - Inteiro\n",
    "\n",
    "**Estacao** - Summer ou Winter\n",
    "\n",
    "**Cidade** - Cidade Hóspede\n",
    "\n",
    "**Esporte** - Esporte\n",
    "\n",
    "**Evento** - Evento\n",
    "\n",
    "**Medalha** - Gold, Silver, Bronze, or NA"
   ]
  },
  {
   "cell_type": "markdown",
   "metadata": {},
   "source": [
    "### Missing Values"
   ]
  },
  {
   "cell_type": "code",
   "execution_count": 76,
   "metadata": {},
   "outputs": [
    {
     "data": {
      "text/plain": [
       "ID                 0\n",
       "Nome               0\n",
       "Sexo               0\n",
       "Idade           9474\n",
       "Altura         60171\n",
       "Peso           62875\n",
       "Time               0\n",
       "NOC                0\n",
       "AnoEstacao         0\n",
       "Ano                0\n",
       "Estacao            0\n",
       "Cidade             0\n",
       "Esporte            0\n",
       "Evento             0\n",
       "Medalha       231333\n",
       "dtype: int64"
      ]
     },
     "execution_count": 76,
     "metadata": {},
     "output_type": "execute_result"
    }
   ],
   "source": [
    "# Verificando a quantidade de missing values\n",
    "dados.isnull().sum()"
   ]
  },
  {
   "cell_type": "code",
   "execution_count": 77,
   "metadata": {},
   "outputs": [],
   "source": [
    "#Tratando os missing values\n",
    "dados['Idade'].fillna(dados['Idade'].mean(), inplace = True)\n",
    "dados['Altura'].fillna(dados['Altura'].mean(), inplace = True)\n",
    "dados[\"Peso\"].fillna(dados['Peso'].mean(), inplace = True)\n",
    "dados['Medalha'].fillna('SemMedalha', inplace = True)"
   ]
  },
  {
   "cell_type": "code",
   "execution_count": 78,
   "metadata": {},
   "outputs": [],
   "source": [
    "# Excluindo colunas que não servirão para nossa análise\n",
    "dados.drop(columns ='Nome', inplace = True)\n",
    "dados.drop(columns = 'ID', inplace = True)\n",
    "dados.drop(columns = 'NOC', inplace = True)\n",
    "dados.drop(columns = 'AnoEstacao', inplace = True)"
   ]
  },
  {
   "cell_type": "markdown",
   "metadata": {},
   "source": [
    "### Histograma: Idade, Peso e Altura"
   ]
  },
  {
   "cell_type": "code",
   "execution_count": 79,
   "metadata": {},
   "outputs": [
    {
     "data": {
      "image/png": "[encoded data removed]",
      "text/plain": [
       "<Figure size 432x288 with 1 Axes>"
      ]
     },
     "metadata": {
      "needs_background": "light"
     },
     "output_type": "display_data"
    }
   ],
   "source": [
    "#Histograma Idade\n",
    "dados.hist(column = 'Idade', bins = 100)\n",
    "plt.show()"
   ]
  },
  {
   "cell_type": "code",
   "execution_count": 80,
   "metadata": {},
   "outputs": [],
   "source": [
    "# A Maior Parte dos medalhistas esta concentrado entre 20 e 30 anos"
   ]
  },
  {
   "cell_type": "code",
   "execution_count": 81,
   "metadata": {},
   "outputs": [
    {
     "data": {
      "image/png": "[encoded data removed]",
      "text/plain": [
       "<Figure size 432x288 with 1 Axes>"
      ]
     },
     "metadata": {
      "needs_background": "light"
     },
     "output_type": "display_data"
    }
   ],
   "source": [
    "#Histograma Peso\n",
    "dados.hist(column = 'Peso', bins = 40)\n",
    "plt.show()"
   ]
  },
  {
   "cell_type": "code",
   "execution_count": 82,
   "metadata": {},
   "outputs": [],
   "source": [
    "# A maior quantidade de medalhistas tem o peso entre 52 a 80 kg"
   ]
  },
  {
   "cell_type": "code",
   "execution_count": 83,
   "metadata": {},
   "outputs": [
    {
     "data": {
      "image/png": "[encoded data removed]",
      "text/plain": [
       "<Figure size 432x288 with 1 Axes>"
      ]
     },
     "metadata": {
      "needs_background": "light"
     },
     "output_type": "display_data"
    }
   ],
   "source": [
    "#Histograma Altura\n",
    "dados.hist(column = 'Altura', bins = 30)\n",
    "plt.show()"
   ]
  },
  {
   "cell_type": "code",
   "execution_count": 84,
   "metadata": {},
   "outputs": [],
   "source": [
    "# A maior parte dos medalhistas tem a altura concentrada entre 1,60 m e 1,80 m"
   ]
  },
  {
   "cell_type": "code",
   "execution_count": 155,
   "metadata": {},
   "outputs": [
    {
     "data": {
      "image/png": "[encoded data removed]",
      "text/plain": [
       "<Figure size 432x288 with 1 Axes>"
      ]
     },
     "metadata": {},
     "output_type": "display_data"
    }
   ],
   "source": [
    "# É Possivel observar através do gráfico de pizza que o número de mulheres ao longo desses anos é bem maior que \n",
    "# o número de homens.\n",
    "%matplotlib inline\n",
    "total = dados.Sexo.value_counts()\n",
    "explode = [0.1,0]\n",
    "plt.pie(total, labels = ('M', 'F'), autopct = '%1.1f%%', radius=1.8, shadow = True, explode = explode)\n",
    "plt.legend()\n",
    "plt.show()"
   ]
  },
  {
   "cell_type": "markdown",
   "metadata": {},
   "source": [
    "### Gráfico que relaciona Medalhas com Sexo"
   ]
  },
  {
   "cell_type": "code",
   "execution_count": 85,
   "metadata": {},
   "outputs": [
    {
     "data": {
      "text/plain": [
       "(array([0, 1]), <a list of 2 Text xticklabel objects>)"
      ]
     },
     "execution_count": 85,
     "metadata": {},
     "output_type": "execute_result"
    },
    {
     "data": {
      "image/png": "[encoded data removed]",
      "text/plain": [
       "<Figure size 1080x720 with 1 Axes>"
      ]
     },
     "metadata": {
      "needs_background": "light"
     },
     "output_type": "display_data"
    }
   ],
   "source": [
    "# Distribuição das Medalhas por Sexo\n",
    "plt.figure(figsize=(15,10))\n",
    "sns.countplot(data=dados, x = 'Sexo',  hue = 'Medalha')\n",
    "plt.xticks(rotation=65)"
   ]
  },
  {
   "cell_type": "code",
   "execution_count": 87,
   "metadata": {},
   "outputs": [
    {
     "data": {
      "text/plain": [
       "Sexo  Medalha   \n",
       "F     SemMedalha     63269\n",
       "      Bronze          3771\n",
       "      Gold            3747\n",
       "      Silver          3735\n",
       "M     SemMedalha    168064\n",
       "      Gold            9625\n",
       "      Bronze          9524\n",
       "      Silver          9381\n",
       "Name: Medalha, dtype: int64"
      ]
     },
     "execution_count": 87,
     "metadata": {},
     "output_type": "execute_result"
    }
   ],
   "source": [
    "#Agrupando quantidade de medalhas por sexo\n",
    "dados.groupby('Sexo')['Medalha'].value_counts()"
   ]
  },
  {
   "cell_type": "code",
   "execution_count": null,
   "metadata": {},
   "outputs": [],
   "source": [
    "# Note que a maior parte das medalhas de ouro foram conquistadas pelas mulheres."
   ]
  },
  {
   "cell_type": "markdown",
   "metadata": {},
   "source": [
    "### Tratando Outliers"
   ]
  },
  {
   "cell_type": "code",
   "execution_count": 88,
   "metadata": {},
   "outputs": [
    {
     "data": {
      "image/png": "[encoded data removed]",
      "text/plain": [
       "<Figure size 432x288 with 1 Axes>"
      ]
     },
     "metadata": {
      "needs_background": "light"
     },
     "output_type": "display_data"
    }
   ],
   "source": [
    "dados.boxplot(column = ['Idade', 'Peso', 'Altura'])\n",
    "plt.show()"
   ]
  },
  {
   "cell_type": "code",
   "execution_count": 89,
   "metadata": {},
   "outputs": [
    {
     "data": {
      "text/plain": [
       "58        54.0\n",
       "89        43.0\n",
       "90        47.0\n",
       "124       41.0\n",
       "126       45.0\n",
       "          ... \n",
       "270752    42.0\n",
       "270753    42.0\n",
       "270955    41.0\n",
       "270971    43.0\n",
       "270972    47.0\n",
       "Name: Idade, Length: 7701, dtype: float64"
      ]
     },
     "execution_count": 89,
     "metadata": {},
     "output_type": "execute_result"
    }
   ],
   "source": [
    "#Verificando os outliers\n",
    "dados.Idade.loc[dados.Idade > 40]"
   ]
  },
  {
   "cell_type": "code",
   "execution_count": 90,
   "metadata": {},
   "outputs": [
    {
     "data": {
      "text/plain": [
       "0.01586036973103764"
      ]
     },
     "execution_count": 90,
     "metadata": {},
     "output_type": "execute_result"
    }
   ],
   "source": [
    "#Contabilizando os outliers superiores\n",
    "(len(dados.Idade.loc[dados.Idade > 40].value_counts())/len(dados.Sexo))*100"
   ]
  },
  {
   "cell_type": "code",
   "execution_count": 91,
   "metadata": {},
   "outputs": [],
   "source": [
    "#Repare que o percentual de outliers referentes a Idade é muito pequeno\n",
    "#Por esse motivo vamos excluir esses outliers\n",
    "dados = dados.query('Idade<=40')"
   ]
  },
  {
   "cell_type": "code",
   "execution_count": 92,
   "metadata": {},
   "outputs": [],
   "source": [
    "#Repare que o percentual de outliers referentes a Peso é muito pequeno\n",
    "#Por esse motivo vamos excluir esses outliers\n",
    "perPeso = (len(dados.Peso.loc[dados.Peso > 100].value_counts())/len(dados.Sexo))*100\n",
    "dados = dados.query('Peso<=100')"
   ]
  },
  {
   "cell_type": "code",
   "execution_count": 93,
   "metadata": {},
   "outputs": [],
   "source": [
    "#Repare que o percentual de outliers referentes a Peso é muito pequeno\n",
    "#Por esse motivo vamos excluir esses outliers\n",
    "(len(dados.Altura.loc[dados.Altura > 200].value_counts())/len(dados.Sexo))*100\n",
    "dados = dados.query('Altura <= 200')"
   ]
  },
  {
   "cell_type": "markdown",
   "metadata": {},
   "source": [
    "* **Excluimos aproximadamente 5 por cento dos dados**"
   ]
  },
  {
   "cell_type": "markdown",
   "metadata": {},
   "source": [
    "### Tratando variáveis categóricas"
   ]
  },
  {
   "cell_type": "code",
   "execution_count": 94,
   "metadata": {},
   "outputs": [],
   "source": [
    "# Tratando a caluna Medalha\n",
    "dados.Medalha.replace('Gold', 0, inplace = True)\n",
    "dados.Medalha.replace('Silver', 1, inplace = True)\n",
    "dados.Medalha.replace('Bronze', 2, inplace = True)\n",
    "dados.Medalha.replace('SemMedalha', 3, inplace = True)"
   ]
  },
  {
   "cell_type": "code",
   "execution_count": 95,
   "metadata": {},
   "outputs": [],
   "source": [
    "# Tratando a coluna estação\n",
    "dados.Estacao.replace('Winter', 1, inplace = True)\n",
    "dados.Estacao.replace('Summer', 2, inplace = True)"
   ]
  },
  {
   "cell_type": "code",
   "execution_count": 156,
   "metadata": {},
   "outputs": [],
   "source": [
    "# Transformando colunas categóricas em numéricas\n",
    "\n",
    "#num = ['Sexo', 'Time', 'Esporte', 'Evento', 'Cidade']\n",
    "\n",
    "#for x in num:\n",
    "#    dados = pd.get_dummies(dados, columns = [x], prefix = [x], sparse = True, drop_first=True\n",
    "                                                                                                    "
   ]
  },
  {
   "cell_type": "markdown",
   "metadata": {},
   "source": [
    "### Transformando dados categóricos em numéricos"
   ]
  },
  {
   "cell_type": "code",
   "execution_count": 97,
   "metadata": {},
   "outputs": [],
   "source": [
    "# A escolha pelo Label Encoder se deu, pois após testar o OneHotEncoder, este apesar de apresentar uma acurácia de 91,6%\n",
    "# gerou muito custo para o modelo. \n",
    "# Supondo a situação em que o modelo fosse para produção e recebesse uma carga maior de dados, isso o tornaria inviável.\n",
    "# O Label Encoder apresentou uma boa acurácia e teve um processamento muito mais rápido. E por isso é melhor para a nossa\n",
    "# Situação.\n",
    "enc = LabelEncoder()"
   ]
  },
  {
   "cell_type": "code",
   "execution_count": 98,
   "metadata": {},
   "outputs": [],
   "source": [
    "num = ['Sexo', 'Time', 'Esporte','Evento', 'Cidade']\n",
    "\n",
    "for x in num:\n",
    "    inteiros = enc.fit_transform(dados[x])\n",
    "    dados[x] = inteiros"
   ]
  },
  {
   "cell_type": "markdown",
   "metadata": {},
   "source": [
    "### Separando Dados de treino e Teste"
   ]
  },
  {
   "cell_type": "code",
   "execution_count": 99,
   "metadata": {},
   "outputs": [],
   "source": [
    "classe = dados['Medalha']\n",
    "treino = dados.drop(columns = 'Medalha', axis = 1, inplace = True)"
   ]
  },
  {
   "cell_type": "code",
   "execution_count": 100,
   "metadata": {},
   "outputs": [],
   "source": [
    "from sklearn.model_selection import train_test_split\n",
    "X_train, X_test, y_train, y_test = train_test_split(dados, classe,test_size=0.3)"
   ]
  },
  {
   "cell_type": "markdown",
   "metadata": {},
   "source": [
    "### Instanciando o modelo - random forest"
   ]
  },
  {
   "cell_type": "code",
   "execution_count": 107,
   "metadata": {},
   "outputs": [],
   "source": [
    "random_clf = RandomForestClassifier(random_state=0)"
   ]
  },
  {
   "cell_type": "markdown",
   "metadata": {},
   "source": [
    "### Treinando o Modelo"
   ]
  },
  {
   "cell_type": "code",
   "execution_count": 108,
   "metadata": {},
   "outputs": [
    {
     "data": {
      "text/plain": [
       "RandomForestClassifier(bootstrap=True, ccp_alpha=0.0, class_weight=None,\n",
       "                       criterion='gini', max_depth=None, max_features='auto',\n",
       "                       max_leaf_nodes=None, max_samples=None,\n",
       "                       min_impurity_decrease=0.0, min_impurity_split=None,\n",
       "                       min_samples_leaf=1, min_samples_split=2,\n",
       "                       min_weight_fraction_leaf=0.0, n_estimators=100,\n",
       "                       n_jobs=None, oob_score=False, random_state=0, verbose=0,\n",
       "                       warm_start=False)"
      ]
     },
     "execution_count": 108,
     "metadata": {},
     "output_type": "execute_result"
    }
   ],
   "source": [
    "random_clf.fit(X_train,y_train)"
   ]
  },
  {
   "cell_type": "markdown",
   "metadata": {},
   "source": [
    "### Executando o Modelo"
   ]
  },
  {
   "cell_type": "code",
   "execution_count": 109,
   "metadata": {},
   "outputs": [
    {
     "data": {
      "text/plain": [
       "array([3, 0, 0, ..., 3, 3, 3], dtype=int64)"
      ]
     },
     "execution_count": 109,
     "metadata": {},
     "output_type": "execute_result"
    }
   ],
   "source": [
    "resultado = random_clf.predict(X_test)\n",
    "resultado"
   ]
  },
  {
   "cell_type": "markdown",
   "metadata": {},
   "source": [
    "### Cross Validation"
   ]
  },
  {
   "cell_type": "code",
   "execution_count": 110,
   "metadata": {},
   "outputs": [
    {
     "data": {
      "text/plain": [
       "array([0.90072922, 0.89783179, 0.89660671, 0.89837628, 0.89448507])"
      ]
     },
     "execution_count": 110,
     "metadata": {},
     "output_type": "execute_result"
    }
   ],
   "source": [
    "#from sklearn.model_selection import cross_val_score\n",
    "scores = cross_val_score(random_clf, dados, classe)\n",
    "scores"
   ]
  },
  {
   "cell_type": "code",
   "execution_count": 111,
   "metadata": {},
   "outputs": [
    {
     "name": "stdout",
     "output_type": "stream",
     "text": [
      "              precision    recall  f1-score   support\n",
      "\n",
      "           0       0.72      0.43      0.54      3757\n",
      "           1       0.66      0.32      0.43      3585\n",
      "           2       0.68      0.28      0.40      3725\n",
      "           3       0.91      0.99      0.95     66071\n",
      "\n",
      "    accuracy                           0.89     77138\n",
      "   macro avg       0.74      0.50      0.58     77138\n",
      "weighted avg       0.88      0.89      0.88     77138\n",
      "\n"
     ]
    }
   ],
   "source": [
    "print(metrics.classification_report(y_test, resultado))"
   ]
  },
  {
   "cell_type": "markdown",
   "metadata": {},
   "source": [
    "### Executando a Função Acurácia"
   ]
  },
  {
   "cell_type": "code",
   "execution_count": 112,
   "metadata": {},
   "outputs": [],
   "source": [
    "# Testando a acurácia do modelo\n",
    "#def Acuracia(random_clf,X,y):\n",
    "#    resultados = cross_val_predict(random_clf, X, y)\n",
    "#    return metrics.accuracy_score(y,resultados)"
   ]
  },
  {
   "cell_type": "code",
   "execution_count": 113,
   "metadata": {},
   "outputs": [
    {
     "data": {
      "text/plain": [
       "0.8976058244271247"
      ]
     },
     "execution_count": 113,
     "metadata": {},
     "output_type": "execute_result"
    }
   ],
   "source": [
    "Acuracia(random_clf,dados,classe)"
   ]
  },
  {
   "cell_type": "markdown",
   "metadata": {},
   "source": [
    "## <span style = \"color:Blue\"> Tunning do Modelo </span>\n",
    "Fazer um Tunning dos modelos e verificar o melhor resultado.\n",
    "\n",
    "* Defina os melhores Hyperparametros para os algoritmos utilizando o GridSearch.\n",
    "\n",
    "* Implemente usando Pipelines.\n",
    "\n",
    "* Avalie os modelos usando Cross Validation (Utilize o recuso já integrado ao Pipeline)."
   ]
  },
  {
   "cell_type": "markdown",
   "metadata": {},
   "source": [
    "#### Criando Pipelines"
   ]
  },
  {
   "cell_type": "code",
   "execution_count": 150,
   "metadata": {},
   "outputs": [],
   "source": [
    "pip_1 = Pipeline([\n",
    "    ('min_max_scaler', MinMaxScaler()),\n",
    "    ('clf', RandomForestClassifier())\n",
    "])\n",
    "\n",
    "pip_2 = Pipeline([\n",
    "    ('min_max_scaler', MinMaxScaler()),\n",
    "    ('clf', RandomForestClassifier(max_depth = 5))\n",
    "])\n",
    "\n",
    "pip_3 = Pipeline([\n",
    "    ('standardscaler', StandardScaler()),\n",
    "    ('clf', RandomForestClassifier(max_depth = 3))\n",
    "])\n",
    " \n",
    "pip_4 = Pipeline([\n",
    "    ('min_max_scaler', MinMaxScaler()),\n",
    "    ('clft', DecisionTreeClassifier())\n",
    "])\n",
    "\n",
    "pip_5 = Pipeline([\n",
    "    ('standardscaler', StandardScaler()),\n",
    "    ('clft', DecisionTreeClassifier(max_depth = 5))\n",
    "])\n",
    "\n",
    "pip_6 = Pipeline([\n",
    "    ('standardscaler', StandardScaler()),\n",
    "    ('clt', KNeighborsClassifier(n_neighbors=3))\n",
    "])\n",
    "\n",
    "pip_7 = Pipeline([\n",
    "    ('min_max_scaler', MinMaxScaler()),\n",
    "    ('clt', KNeighborsClassifier(n_neighbors = 5))\n",
    "])"
   ]
  },
  {
   "cell_type": "code",
   "execution_count": 119,
   "metadata": {},
   "outputs": [
    {
     "data": {
      "text/plain": [
       "0.8931006767092743"
      ]
     },
     "execution_count": 119,
     "metadata": {},
     "output_type": "execute_result"
    }
   ],
   "source": [
    "pip_1.fit(X_train, y_train)\n",
    "acuracia1 = pip_1.score(X_test, y_test)\n",
    "acuracia1"
   ]
  },
  {
   "cell_type": "code",
   "execution_count": 120,
   "metadata": {},
   "outputs": [
    {
     "data": {
      "text/plain": [
       "0.8565298555834997"
      ]
     },
     "execution_count": 120,
     "metadata": {},
     "output_type": "execute_result"
    }
   ],
   "source": [
    "pip_2.fit(X_train, y_train)\n",
    "acuracia2 = pip_2.score(X_test, y_test)\n",
    "acuracia2"
   ]
  },
  {
   "cell_type": "code",
   "execution_count": 121,
   "metadata": {},
   "outputs": [
    {
     "data": {
      "text/plain": [
       "0.8565298555834997"
      ]
     },
     "execution_count": 121,
     "metadata": {},
     "output_type": "execute_result"
    }
   ],
   "source": [
    "pip_3.fit(X_train, y_train)\n",
    "acuracia3 = pip_3.score(X_test, y_test)\n",
    "acuracia3"
   ]
  },
  {
   "cell_type": "code",
   "execution_count": 133,
   "metadata": {},
   "outputs": [
    {
     "data": {
      "text/plain": [
       "0.8553631154554175"
      ]
     },
     "execution_count": 133,
     "metadata": {},
     "output_type": "execute_result"
    }
   ],
   "source": [
    "pip_4.fit(X_train, y_train)\n",
    "acuracia4 = pip_4.score(X_test, y_test)\n",
    "acuracia4"
   ]
  },
  {
   "cell_type": "code",
   "execution_count": 134,
   "metadata": {},
   "outputs": [
    {
     "data": {
      "text/plain": [
       "0.8587985169436594"
      ]
     },
     "execution_count": 134,
     "metadata": {},
     "output_type": "execute_result"
    }
   ],
   "source": [
    "pip_5.fit(X_train, y_train)\n",
    "acuracia5 = pip_5.score(X_test, y_test)\n",
    "acuracia5"
   ]
  },
  {
   "cell_type": "code",
   "execution_count": 148,
   "metadata": {},
   "outputs": [
    {
     "data": {
      "text/plain": [
       "0.8269724390054188"
      ]
     },
     "execution_count": 148,
     "metadata": {},
     "output_type": "execute_result"
    }
   ],
   "source": [
    "pip_6.fit(X_train, y_train)\n",
    "acuracia6 = pip_6.score(X_test, y_test)\n",
    "acuracia6"
   ]
  },
  {
   "cell_type": "code",
   "execution_count": 151,
   "metadata": {},
   "outputs": [
    {
     "data": {
      "text/plain": [
       "0.8485182400373357"
      ]
     },
     "execution_count": 151,
     "metadata": {},
     "output_type": "execute_result"
    }
   ],
   "source": [
    "pip_7.fit(X_train, y_train)\n",
    "acuracia7 = pip_7.score(X_test, y_test)\n",
    "acuracia7"
   ]
  },
  {
   "cell_type": "markdown",
   "metadata": {},
   "source": [
    "### Pipeline Final"
   ]
  },
  {
   "cell_type": "code",
   "execution_count": 135,
   "metadata": {},
   "outputs": [
    {
     "data": {
      "text/plain": [
       "array([3, 0, 0, ..., 3, 3, 3], dtype=int64)"
      ]
     },
     "execution_count": 135,
     "metadata": {},
     "output_type": "execute_result"
    }
   ],
   "source": [
    "pip_final = Pipeline([\n",
    "    ('min_max_scaler', MinMaxScaler()),\n",
    "    ('clf', RandomForestClassifier())\n",
    "])\n",
    "\n",
    "\n",
    "pip_final.fit(X_train, y_train)\n",
    "\n",
    "pip_final.predict(X_test)"
   ]
  },
  {
   "cell_type": "markdown",
   "metadata": {},
   "source": [
    "### Grid Search"
   ]
  },
  {
   "cell_type": "code",
   "execution_count": 140,
   "metadata": {},
   "outputs": [],
   "source": [
    "# Parametros para o GridSearch\n",
    "param_grid = dict(clf__max_depth=[3,4,5,6,7,8,9,10])\n",
    "# Criar objeto GridSearch com os parâmetros definidos e a configuração de validação cruzada com 5 folds\n",
    "grid = GridSearchCV(pip_final,param_grid = paramet_grid, cv = 5, scoring = 'accuracy')"
   ]
  },
  {
   "cell_type": "code",
   "execution_count": 141,
   "metadata": {},
   "outputs": [
    {
     "data": {
      "text/plain": [
       "GridSearchCV(cv=5, error_score=nan,\n",
       "             estimator=Pipeline(memory=None,\n",
       "                                steps=[('min_max_scaler',\n",
       "                                        MinMaxScaler(copy=True,\n",
       "                                                     feature_range=(0, 1))),\n",
       "                                       ('clf',\n",
       "                                        RandomForestClassifier(bootstrap=True,\n",
       "                                                               ccp_alpha=0.0,\n",
       "                                                               class_weight=None,\n",
       "                                                               criterion='gini',\n",
       "                                                               max_depth=None,\n",
       "                                                               max_features='auto',\n",
       "                                                               max_leaf_nodes=None,\n",
       "                                                               max_samples=None,\n",
       "                                                               min_impurity_decrease=0.0,\n",
       "                                                               min_impurity_split=None,\n",
       "                                                               min_samples_leaf=1,\n",
       "                                                               min_samples_split=2,\n",
       "                                                               min_weight_fraction_leaf=0.0,\n",
       "                                                               n_estimators=100,\n",
       "                                                               n_jobs=None,\n",
       "                                                               oob_score=False,\n",
       "                                                               random_state=None,\n",
       "                                                               verbose=0,\n",
       "                                                               warm_start=False))],\n",
       "                                verbose=False),\n",
       "             iid='deprecated', n_jobs=None,\n",
       "             param_grid={'clf__max_depth': [3, 4, 5, 6, 7, 8, 9, 10]},\n",
       "             pre_dispatch='2*n_jobs', refit=True, return_train_score=False,\n",
       "             scoring='accuracy', verbose=0)"
      ]
     },
     "execution_count": 141,
     "metadata": {},
     "output_type": "execute_result"
    }
   ],
   "source": [
    "# Executando GridSearch\n",
    "grid.fit(X_train, y_train)"
   ]
  },
  {
   "cell_type": "code",
   "execution_count": 142,
   "metadata": {},
   "outputs": [
    {
     "data": {
      "text/plain": [
       "{'mean_fit_time': array([ 7.51519504,  9.0068244 , 10.46463332, 11.9865665 , 13.43977232,\n",
       "        14.69296112, 15.76909018, 16.92535644]),\n",
       " 'std_fit_time': array([0.16037982, 0.14832265, 0.20486171, 0.31541999, 0.34381592,\n",
       "        0.31125331, 0.31865096, 0.12634525]),\n",
       " 'mean_score_time': array([0.40194473, 0.42036195, 0.45927396, 0.51733975, 0.55303583,\n",
       "        0.62915082, 0.66623683, 0.74019032]),\n",
       " 'std_score_time': array([0.0257979 , 0.00911055, 0.00480819, 0.01831241, 0.00311836,\n",
       "        0.04189126, 0.00482135, 0.01474198]),\n",
       " 'param_clf__max_depth': masked_array(data=[3, 4, 5, 6, 7, 8, 9, 10],\n",
       "              mask=[False, False, False, False, False, False, False, False],\n",
       "        fill_value='?',\n",
       "             dtype=object),\n",
       " 'params': [{'clf__max_depth': 3},\n",
       "  {'clf__max_depth': 4},\n",
       "  {'clf__max_depth': 5},\n",
       "  {'clf__max_depth': 6},\n",
       "  {'clf__max_depth': 7},\n",
       "  {'clf__max_depth': 8},\n",
       "  {'clf__max_depth': 9},\n",
       "  {'clf__max_depth': 10}],\n",
       " 'split0_test_score': array([0.85421412, 0.85421412, 0.85421412, 0.8542419 , 0.85471415,\n",
       "        0.8561309 , 0.85740874, 0.86007556]),\n",
       " 'split1_test_score': array([0.85423785, 0.85423785, 0.85423785, 0.85423785, 0.85454343,\n",
       "        0.85579354, 0.85832153, 0.85971053]),\n",
       " 'split2_test_score': array([0.85421007, 0.85421007, 0.85421007, 0.85426563, 0.85476567,\n",
       "        0.85604356, 0.85848821, 0.8608773 ]),\n",
       " 'split3_test_score': array([0.85421007, 0.85421007, 0.85421007, 0.85423785, 0.85479346,\n",
       "        0.85587688, 0.85787705, 0.86054393]),\n",
       " 'split4_test_score': array([0.85421007, 0.85421007, 0.85421007, 0.85423785, 0.85454343,\n",
       "        0.85582132, 0.85793261, 0.86090508]),\n",
       " 'mean_test_score': array([0.85421644, 0.85421644, 0.85421644, 0.85424422, 0.85467203,\n",
       "        0.85593324, 0.85800563, 0.86042248]),\n",
       " 'std_test_score': array([1.08213248e-05, 1.08213248e-05, 1.08213248e-05, 1.08213578e-05,\n",
       "        1.08038268e-04, 1.31497430e-04, 3.77043783e-04, 4.65130277e-04]),\n",
       " 'rank_test_score': array([6, 6, 6, 5, 4, 3, 2, 1])}"
      ]
     },
     "execution_count": 142,
     "metadata": {},
     "output_type": "execute_result"
    }
   ],
   "source": [
    "grid.cv_results_"
   ]
  },
  {
   "cell_type": "code",
   "execution_count": 143,
   "metadata": {},
   "outputs": [
    {
     "data": {
      "text/plain": [
       "{'clf__max_depth': 10}"
      ]
     },
     "execution_count": 143,
     "metadata": {},
     "output_type": "execute_result"
    }
   ],
   "source": [
    "# Verificando os melhores parâmetros\n",
    "grid.best_params_"
   ]
  },
  {
   "cell_type": "code",
   "execution_count": 144,
   "metadata": {},
   "outputs": [
    {
     "data": {
      "text/plain": [
       "0.8604224792312707"
      ]
     },
     "execution_count": 144,
     "metadata": {},
     "output_type": "execute_result"
    }
   ],
   "source": [
    "# Verificando o melhor resultado\n",
    "grid.best_score_"
   ]
  },
  {
   "cell_type": "code",
   "execution_count": null,
   "metadata": {},
   "outputs": [],
   "source": []
  }
 ],
 "metadata": {
  "kernelspec": {
   "display_name": "Python 3",
   "language": "python",
   "name": "python3"
  },
  "language_info": {
   "codemirror_mode": {
    "name": "ipython",
    "version": 3
   },
   "file_extension": ".py",
   "mimetype": "text/x-python",
   "name": "python",
   "nbconvert_exporter": "python",
   "pygments_lexer": "ipython3",
   "version": "3.7.4"
  }
 },
 "nbformat": 4,
 "nbformat_minor": 4
}
